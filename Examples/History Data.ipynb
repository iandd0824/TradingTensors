{
 "cells": [
  {
   "cell_type": "code",
   "execution_count": 20,
   "metadata": {},
   "outputs": [],
   "source": [
    "import numpy as np\n",
    "import pandas as pd\n",
    "import requests\n",
    "\n",
    "from tradingtensors.functions.utils import OandaHandler\n",
    "\n",
    "from tradingtensors.settings.serverconfig import ID, INDICATORS_SETTINGS, RETURNS_BY_OPEN, TOKEN\n",
    "\n",
    "import json\n",
    "import datetime as dt\n",
    "import time"
   ]
  },
  {
   "cell_type": "code",
   "execution_count": 21,
   "metadata": {},
   "outputs": [],
   "source": [
    "TOKEN = \"\" #Oanda Token\n",
    "ID = \"\" #Oanda Account ID\n",
    "\n",
    "DEFAULT_URL ={\n",
    "    'practice': 'https://api-fxpractice.oanda.com',\n",
    "    'live': 'https://api-fxtrade.oanda.com'\n",
    "}\n",
    "\n",
    "DEFAULT_HEADERS = {\n",
    "    'Authorization' :'Bearer ' + TOKEN\n",
    "}\n",
    "\n",
    "TIMEFRAME = 'M15'\n",
    "\n",
    "INSTRUMENT = \"EUR_USD\"\n",
    "\n",
    "MODE = 'practice'\n",
    "\n",
    "HISTORY = 5000\n",
    "\n",
    "DT_FORMAT='RFC3339'\n",
    "\n",
    "currentTime = dt.datetime.fromtimestamp(time.time()).strftime('%Y-%m-%d_%H:%M:%S')\n",
    "\n",
    "DATA_PATH = 'data/'\n",
    "\n",
    "FROM_DATE = '2010-01-01T00:00:00.000000000Z'"
   ]
  },
  {
   "cell_type": "code",
   "execution_count": 22,
   "metadata": {},
   "outputs": [],
   "source": [
    "from_date = dt.datetime.strptime(FROM_DATE, '%Y-%m-%dT%H:%M:%S.000000000Z')"
   ]
  },
  {
   "cell_type": "code",
   "execution_count": 23,
   "metadata": {},
   "outputs": [
    {
     "data": {
      "text/plain": [
       "datetime.datetime(2010, 1, 1, 0, 0)"
      ]
     },
     "execution_count": 23,
     "metadata": {},
     "output_type": "execute_result"
    }
   ],
   "source": [
    "from_date"
   ]
  },
  {
   "cell_type": "code",
   "execution_count": 24,
   "metadata": {},
   "outputs": [],
   "source": [
    "QUERY_URL = DEFAULT_URL[MODE] + '/v3/instruments/{}/candles'.format(INSTRUMENT)"
   ]
  },
  {
   "cell_type": "code",
   "execution_count": 25,
   "metadata": {},
   "outputs": [
    {
     "data": {
      "text/plain": [
       "'https://api-fxpractice.oanda.com/v3/instruments/EUR_USD/candles'"
      ]
     },
     "execution_count": 25,
     "metadata": {},
     "output_type": "execute_result"
    }
   ],
   "source": [
    "QUERY_URL"
   ]
  },
  {
   "cell_type": "code",
   "execution_count": 26,
   "metadata": {},
   "outputs": [],
   "source": [
    "#Parameters required to retrieve history\n",
    "params = {\n",
    "  \"count\": HISTORY, \n",
    "  \"granularity\": TIMEFRAME,\n",
    "  \"price\": \"M\"\n",
    "}"
   ]
  },
  {
   "cell_type": "code",
   "execution_count": 27,
   "metadata": {},
   "outputs": [
    {
     "data": {
      "text/plain": [
       "{'count': 5000, 'granularity': 'M15', 'price': 'M'}"
      ]
     },
     "execution_count": 27,
     "metadata": {},
     "output_type": "execute_result"
    }
   ],
   "source": [
    "params"
   ]
  },
  {
   "cell_type": "code",
   "execution_count": 28,
   "metadata": {},
   "outputs": [],
   "source": [
    "#Headers\n",
    "DEFAULT_HEADERS['Accept-Datetime-Format'] = DT_FORMAT"
   ]
  },
  {
   "cell_type": "code",
   "execution_count": 29,
   "metadata": {},
   "outputs": [],
   "source": [
    "keepLoop = True\n",
    "firsLoop = True\n",
    "history = []\n",
    "\n",
    "while keepLoop:\n",
    "    \n",
    "    #Make API call repeated \n",
    "    try:\n",
    "        response = requests.get(QUERY_URL, headers=DEFAULT_HEADERS, params=params).json()\n",
    "        #with open('data/history.1.json') as f:\n",
    "        #    response = json.load(f)\n",
    "        candles = response[\"candles\"]\n",
    "        \n",
    "        if not history :\n",
    "            history = response\n",
    "        else :\n",
    "            for x in reversed(candles) : \n",
    "                history['candles'].insert(0, x)\n",
    "            \n",
    "        params[\"to\"] = candles[0]['time']\n",
    "        \n",
    "        firstCandlesDate = dt.datetime.strptime(candles[0]['time'], '%Y-%m-%dT%H:%M:%S.000000000Z')\n",
    "        \n",
    "        if firstCandlesDate <= from_date:\n",
    "            keepLoop = False\n",
    "        \n",
    "        \n",
    "\n",
    "    except (RequestException, KeyError) as e:\n",
    "        print (\"Failed to retrieve instrument history from Oanda, {}\".format(e))\n"
   ]
  },
  {
   "cell_type": "code",
   "execution_count": 30,
   "metadata": {},
   "outputs": [],
   "source": [
    "with open(DATA_PATH+INSTRUMENT+'_'+TIMEFRAME+'_history.json'.format(currentTime), 'w') as outfile:\n",
    "    json.dump(history, outfile)"
   ]
  },
  {
   "cell_type": "code",
   "execution_count": 139,
   "metadata": {},
   "outputs": [
    {
     "data": {
      "text/plain": [
       "[{'complete': True,\n",
       "  'volume': 1402,\n",
       "  'time': '2018-07-13T18:00:00.000000000Z',\n",
       "  'mid': {'o': '21.60172', 'h': '21.60538', 'l': '21.58113', 'c': '21.58250'}},\n",
       " {'complete': True,\n",
       "  'volume': 979,\n",
       "  'time': '2018-07-13T19:00:00.000000000Z',\n",
       "  'mid': {'o': '21.58226', 'h': '21.59988', 'l': '21.57230', 'c': '21.58914'}},\n",
       " {'complete': True,\n",
       "  'volume': 320,\n",
       "  'time': '2018-07-13T20:00:00.000000000Z',\n",
       "  'mid': {'o': '21.59188', 'h': '21.60720', 'l': '21.58643', 'c': '21.59504'}},\n",
       " {'complete': True,\n",
       "  'volume': 605,\n",
       "  'time': '2018-07-15T21:00:00.000000000Z',\n",
       "  'mid': {'o': '1.16908', 'h': '1.16934', 'l': '1.16817', 'c': '1.16856'}},\n",
       " {'complete': False,\n",
       "  'volume': 617,\n",
       "  'time': '2018-07-15T22:00:00.000000000Z',\n",
       "  'mid': {'o': '1.16854', 'h': '1.16856', 'l': '1.16784', 'c': '1.16822'}}]"
      ]
     },
     "execution_count": 139,
     "metadata": {},
     "output_type": "execute_result"
    }
   ],
   "source": [
    "history['candles']"
   ]
  },
  {
   "cell_type": "code",
   "execution_count": null,
   "metadata": {},
   "outputs": [],
   "source": []
  }
 ],
 "metadata": {
  "kernelspec": {
   "display_name": "Python 3",
   "language": "python",
   "name": "python3"
  },
  "language_info": {
   "codemirror_mode": {
    "name": "ipython",
    "version": 3
   },
   "file_extension": ".py",
   "mimetype": "text/x-python",
   "name": "python",
   "nbconvert_exporter": "python",
   "pygments_lexer": "ipython3",
   "version": "3.6.5"
  }
 },
 "nbformat": 4,
 "nbformat_minor": 2
}
